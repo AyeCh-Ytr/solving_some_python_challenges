{
 "cells": [
  {
   "cell_type": "markdown",
   "id": "e630724e",
   "metadata": {},
   "source": [
    "# Grade Calculator"
   ]
  },
  {
   "cell_type": "code",
   "execution_count": 6,
   "id": "1abd7b1a",
   "metadata": {},
   "outputs": [
    {
     "name": "stdout",
     "output_type": "stream",
     "text": [
      "Enter you marks:\n",
      "First Subject:3\n",
      "Second Subject:3\n",
      "Third Subject:4\n",
      "Fourth Subject:4\n",
      "Fifth Subject:4\n",
      "Sixth Subject:3\n",
      "3.5\n",
      "C\n"
     ]
    }
   ],
   "source": [
    "print('Enter you marks:')\n",
    "sub1 = int(input('First Subject:'))\n",
    "sub2 = int(input('Second Subject:'))\n",
    "sub3 = int(input('Third Subject:'))\n",
    "sub4 = int(input('Fourth Subject:'))\n",
    "sub5 = int(input('Fifth Subject:'))\n",
    "sub6 = int(input('Sixth Subject:'))\n",
    "avg = (sub1+sub2+sub3+sub4+sub5+sub6)/6\n",
    "print(avg)\n",
    "if avg>=4.5:\n",
    "    print('A')\n",
    "elif avg>=4.0:\n",
    "    print('B')\n",
    "elif avg>=3.0:\n",
    "    print('C')\n",
    "else:\n",
    "    print('D')"
   ]
  },
  {
   "cell_type": "markdown",
   "id": "710fd302",
   "metadata": {},
   "source": [
    "# Gravitational Force"
   ]
  },
  {
   "cell_type": "code",
   "execution_count": 7,
   "id": "37595d94",
   "metadata": {},
   "outputs": [
    {
     "name": "stdout",
     "output_type": "stream",
     "text": [
      "mass1:23\n",
      "mass2:324\n",
      "distance between two objects:4\n",
      "3.10794975e-08 N\n"
     ]
    }
   ],
   "source": [
    "mass1 = float(input('mass1:'))\n",
    "mass2 = float(input('mass2:'))\n",
    "r = float(input('distance between two objects:'))\n",
    "G = 6.673*(10**-11)\n",
    "force = (G*mass1*mass2)/(r**2)\n",
    "print(force,'N')"
   ]
  },
  {
   "cell_type": "markdown",
   "id": "dfcaab14",
   "metadata": {},
   "source": [
    "# Celsius To Fahrenheit"
   ]
  },
  {
   "cell_type": "code",
   "execution_count": 9,
   "id": "4444d089",
   "metadata": {},
   "outputs": [
    {
     "name": "stdout",
     "output_type": "stream",
     "text": [
      "Enter temperature in degrees Celsius: 18\n",
      "Temparature in Fahrenheit 64.4\n"
     ]
    }
   ],
   "source": [
    "celsius = float(input(\"Enter temperature in degrees Celsius: \"))\n",
    "fahrenheit = celsius*9/5+32\n",
    "print('Temparature in Fahrenheit',fahrenheit)"
   ]
  },
  {
   "cell_type": "markdown",
   "id": "ba91eb0a",
   "metadata": {},
   "source": [
    "# Calculating The Power Of Any Number"
   ]
  },
  {
   "cell_type": "code",
   "execution_count": 10,
   "id": "60030173",
   "metadata": {
    "scrolled": true
   },
   "outputs": [
    {
     "name": "stdout",
     "output_type": "stream",
     "text": [
      "enter the base number:2\n",
      "enter the power number:2\n",
      "Your result is 4\n"
     ]
    }
   ],
   "source": [
    "base_num = int(input('enter the base number:'))\n",
    "power_num = int(input('enter the power number:'))\n",
    "result = base_num**power_num\n",
    "print('Your result is',result)"
   ]
  },
  {
   "cell_type": "markdown",
   "id": "0317d6ca",
   "metadata": {},
   "source": [
    "# Random Password Generator"
   ]
  },
  {
   "cell_type": "code",
   "execution_count": 14,
   "id": "48e8b3ff",
   "metadata": {},
   "outputs": [
    {
     "name": "stdout",
     "output_type": "stream",
     "text": [
      "How many characters in your password?10\n",
      "Your new password is:  3~{1JBOMi~\n"
     ]
    }
   ],
   "source": [
    "import string\n",
    "import random\n",
    " \n",
    "def generate_password(size):\n",
    "   all_chars = string.ascii_letters + string.digits + string.punctuation\n",
    "   password = ''\n",
    "   for char in range(size):\n",
    "       rand_char = random.choice(all_chars)\n",
    "       password = password + rand_char\n",
    "   return password\n",
    " \n",
    "pass_len = int(input('How many characters in your password?'))\n",
    "new_password = generate_password(pass_len)\n",
    "print('Your new password is: ', new_password)"
   ]
  },
  {
   "cell_type": "markdown",
   "id": "1c76a2ac",
   "metadata": {},
   "source": [
    "# SIMPLE CALCULATOR"
   ]
  },
  {
   "cell_type": "code",
   "execution_count": 18,
   "id": "de050f56",
   "metadata": {},
   "outputs": [
    {
     "name": "stdout",
     "output_type": "stream",
     "text": [
      "num1:3\n",
      "What you want to do(+, -, *, /, %):+\n",
      "num2:3\n",
      "3 + 3 = 6\n"
     ]
    }
   ],
   "source": [
    "def add(num1,num2):\n",
    "    return num1+num2\n",
    "def substract(num1,num2):\n",
    "    return num1-num2\n",
    "def multiply(num1,num2):\n",
    "    return num1*num2\n",
    "def divide(num1,num2):\n",
    "    return num1/num2\n",
    "\n",
    "num1 =  int(input('num1:'))\n",
    "operation = input(\"What you want to do(+, -, *, /, %):\")\n",
    "num2 = int(input('num2:'))\n",
    "\n",
    "result = 0\n",
    "if operation == '+':\n",
    "    result = add(num1,num2)\n",
    "elif operation == '-':\n",
    "    result = subtract(num1,num2)\n",
    "elif operation == '*':\n",
    "    result = multiply(num1,num2)\n",
    "elif operation == '/':\n",
    "    result = divide(num1,num2)\n",
    "elif operation == '%':\n",
    "    result = modulo(num1,num2)\n",
    "else:\n",
    "    print(\"Please enter: +, -, *, / or %\")\n",
    "\n",
    "print(num1, operation, num2, '=', result)"
   ]
  },
  {
   "cell_type": "code",
   "execution_count": null,
   "id": "ddbc3b1e",
   "metadata": {},
   "outputs": [],
   "source": []
  }
 ],
 "metadata": {
  "kernelspec": {
   "display_name": "Python 3 (ipykernel)",
   "language": "python",
   "name": "python3"
  },
  "language_info": {
   "codemirror_mode": {
    "name": "ipython",
    "version": 3
   },
   "file_extension": ".py",
   "mimetype": "text/x-python",
   "name": "python",
   "nbconvert_exporter": "python",
   "pygments_lexer": "ipython3",
   "version": "3.9.7"
  }
 },
 "nbformat": 4,
 "nbformat_minor": 5
}
